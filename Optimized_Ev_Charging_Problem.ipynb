{
  "nbformat": 4,
  "nbformat_minor": 0,
  "metadata": {
    "colab": {
      "provenance": []
    },
    "kernelspec": {
      "name": "python3",
      "display_name": "Python 3"
    },
    "language_info": {
      "name": "python"
    }
  },
  "cells": [
    {
      "cell_type": "code",
      "execution_count": 1,
      "metadata": {
        "colab": {
          "base_uri": "https://localhost:8080/"
        },
        "id": "TjCtnoEDxnK4",
        "outputId": "55ee4b23-24d7-4818-c480-a37124034892"
      },
      "outputs": [
        {
          "output_type": "stream",
          "name": "stdout",
          "text": [
            "Vehicle 1 assigned to Station 2\n",
            "Vehicle 3 assigned to Station 1\n"
          ]
        }
      ],
      "source": [
        "import numpy as np\n",
        "from scipy.optimize import linear_sum_assignment\n",
        "\n",
        "\n",
        "def calculate_distance_matrix(vehicles, stations, weights):\n",
        "    n = len(vehicles)\n",
        "    m = len(stations)\n",
        "    distance_matrix = np.zeros((n, m))\n",
        "\n",
        "    for i in range(n):\n",
        "        for j in range(m):\n",
        "            d1 = abs(vehicles[i]['battery_capacity'] - stations[j]['charger_capacity'])\n",
        "            d2 = abs((vehicles[i]['battery_capacity'] / stations[j]['charging_speed']) - vehicles[i]['average_charge_time'])\n",
        "            d3 = 0 if stations[j]['available_ports'] > 0 else 1\n",
        "            d4 = np.linalg.norm(np.array(vehicles[i]['location']) - np.array(stations[j]['location']))\n",
        "            distance_matrix[i, j] = weights[0]*d1 + weights[1]*d2 + weights[2]*d3 + weights[3]*d4\n",
        "\n",
        "    return distance_matrix\n",
        "\n",
        "\n",
        "vehicles = [\n",
        "    {'battery_capacity': 60, 'average_charge_time': 30, 'location': (12.9716, 77.5946)},\n",
        "    {'battery_capacity': 75, 'average_charge_time': 40, 'location': (28.7041, 77.1025)},\n",
        "    {'battery_capacity': 50, 'average_charge_time': 25, 'location': (19.0760, 72.8777)},\n",
        "]\n",
        "\n",
        "stations = [\n",
        "    {'charger_capacity': 50, 'charging_speed': 10, 'available_ports': 2, 'location': (12.9716, 77.5946)},\n",
        "    {'charger_capacity': 60, 'charging_speed': 8, 'available_ports': 1, 'location': (28.7041, 77.1025)},\n",
        "\n",
        "]\n",
        "\n",
        "weights = [0.25, 0.25, 0.25, 0.25]\n",
        "\n",
        "\n",
        "distance_matrix = calculate_distance_matrix(vehicles, stations, weights)\n",
        "\n",
        "\n",
        "row_ind, col_ind = linear_sum_assignment(distance_matrix)\n",
        "optimal_assignment = list(zip(row_ind, col_ind))\n",
        "\n",
        "\n",
        "for vehicle_idx, station_idx in optimal_assignment:\n",
        "    print(f'Vehicle {vehicle_idx + 1} assigned to Station {station_idx + 1}')\n"
      ]
    }
  ]
}